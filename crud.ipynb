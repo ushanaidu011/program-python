{
 "cells": [
  {
   "cell_type": "code",
   "execution_count": 2,
   "metadata": {},
   "outputs": [
    {
     "name": "stdout",
     "output_type": "stream",
     "text": [
      "[]\n"
     ]
    }
   ],
   "source": [
    "list1=[]\n",
    "print(list1)"
   ]
  },
  {
   "cell_type": "code",
   "execution_count": 4,
   "metadata": {},
   "outputs": [
    {
     "name": "stdout",
     "output_type": "stream",
     "text": [
      "[1, 2, 3, 4]\n"
     ]
    }
   ],
   "source": [
    "list2=[1,2,3,4]\n",
    "print(list2)"
   ]
  },
  {
   "cell_type": "code",
   "execution_count": 5,
   "metadata": {},
   "outputs": [
    {
     "name": "stdout",
     "output_type": "stream",
     "text": [
      "[1, 2, 'raja', 4]\n",
      "[1, 2, 'raja', 4]\n"
     ]
    }
   ],
   "source": [
    "list3=[1,2,\"raja\",4]\n",
    "print(list3)\n",
    "l=list3\n",
    "print(l)"
   ]
  },
  {
   "cell_type": "code",
   "execution_count": 6,
   "metadata": {},
   "outputs": [
    {
     "name": "stdout",
     "output_type": "stream",
     "text": [
      "[3, 4, 'rani', 'naidu']\n",
      "[3, 4, 'rani', 'naidu']\n"
     ]
    }
   ],
   "source": [
    "list3=[3,4,\"rani\",\"naidu\"]\n",
    "print(list3)\n",
    "l4=list3\n",
    "print(l4)"
   ]
  },
  {
   "cell_type": "code",
   "execution_count": 7,
   "metadata": {},
   "outputs": [
    {
     "name": "stdout",
     "output_type": "stream",
     "text": [
      "['rani', 'naidu', 'usha']\n",
      "['rani', 'naidu', 'usha']\n"
     ]
    }
   ],
   "source": [
    "list1=[\"rani\",\"naidu\",\"usha\"]\n",
    "print(list1)\n",
    "l3=list1\n",
    "print(l3)"
   ]
  },
  {
   "cell_type": "code",
   "execution_count": 12,
   "metadata": {},
   "outputs": [
    {
     "name": "stdout",
     "output_type": "stream",
     "text": [
      "h\n",
      "a\n",
      "d\n",
      "a\n"
     ]
    }
   ],
   "source": [
    "list1=[\"usha\",\"naidu\",\"powenkalyan\"]\n",
    "print(list1[0][2])\n",
    "print(list1[2][-5])\n",
    "print(list1[1][3])\n",
    "print(list1[2][-2])"
   ]
  },
  {
   "cell_type": "code",
   "execution_count": 13,
   "metadata": {},
   "outputs": [
    {
     "name": "stdout",
     "output_type": "stream",
     "text": [
      "after upadation ['usha', 'naidu']\n",
      "before updation ['usha', 'rani']\n",
      "['usha', 'rani']\n"
     ]
    }
   ],
   "source": [
    "l1=[\"usha\",\"naidu\"]\n",
    "print(\"after upadation\",l1)\n",
    "l1=[\"usha\",\"rani\"]\n",
    "print(\"before updation\",l1)\n",
    "print(l1)\n"
   ]
  },
  {
   "cell_type": "code",
   "execution_count": 14,
   "metadata": {},
   "outputs": [
    {
     "name": "stdout",
     "output_type": "stream",
     "text": [
      "['usha', 'rani']\n",
      "after updation [100, 200, 300]\n",
      "[100, 200, 300]\n",
      "after updation [500, 400, 1000]\n"
     ]
    }
   ],
   "source": [
    "list1=[100,200,300]\n",
    "print(l1)\n",
    "print(\"after updation\",list1)\n",
    "l2=list1\n",
    "print(l2)\n",
    "list1=[500,400,1000]\n",
    "print(\"after updation\",list1)"
   ]
  },
  {
   "cell_type": "code",
   "execution_count": 16,
   "metadata": {},
   "outputs": [
    {
     "name": "stdout",
     "output_type": "stream",
     "text": [
      "1507661416576\n",
      "1507661423360\n"
     ]
    }
   ],
   "source": [
    "l1=[1,2,3,4]\n",
    "print(id(l1))\n",
    "l2=[100,200,300]\n",
    "print(id(l2))\n"
   ]
  },
  {
   "cell_type": "code",
   "execution_count": 18,
   "metadata": {},
   "outputs": [
    {
     "name": "stdout",
     "output_type": "stream",
     "text": [
      "1507661459712\n",
      "1507661459712\n"
     ]
    }
   ],
   "source": [
    "list1=[100,200,300]\n",
    "print(id(list1))\n",
    "l2=list1\n",
    "print(id(l2))"
   ]
  },
  {
   "cell_type": "code",
   "execution_count": null,
   "metadata": {},
   "outputs": [],
   "source": []
  },
  {
   "cell_type": "code",
   "execution_count": null,
   "metadata": {},
   "outputs": [],
   "source": []
  },
  {
   "cell_type": "code",
   "execution_count": null,
   "metadata": {},
   "outputs": [],
   "source": []
  },
  {
   "cell_type": "code",
   "execution_count": null,
   "metadata": {},
   "outputs": [],
   "source": []
  },
  {
   "cell_type": "code",
   "execution_count": null,
   "metadata": {},
   "outputs": [],
   "source": []
  }
 ],
 "metadata": {
  "kernelspec": {
   "display_name": "Python 3",
   "language": "python",
   "name": "python3"
  },
  "language_info": {
   "codemirror_mode": {
    "name": "ipython",
    "version": 3
   },
   "file_extension": ".py",
   "mimetype": "text/x-python",
   "name": "python",
   "nbconvert_exporter": "python",
   "pygments_lexer": "ipython3",
   "version": "3.12.2"
  }
 },
 "nbformat": 4,
 "nbformat_minor": 2
}

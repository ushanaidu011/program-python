{
 "cells": [
  {
   "cell_type": "code",
   "execution_count": 1,
   "metadata": {},
   "outputs": [
    {
     "name": "stdout",
     "output_type": "stream",
     "text": [
      "<class 'int'>\n",
      "10\n"
     ]
    }
   ],
   "source": [
    "a=10\n",
    "print(type(a))\n",
    "print(a)"
   ]
  },
  {
   "cell_type": "code",
   "execution_count": 2,
   "metadata": {},
   "outputs": [
    {
     "name": "stdout",
     "output_type": "stream",
     "text": [
      "<class 'int'>\n",
      "100\n"
     ]
    }
   ],
   "source": [
    "age=100\n",
    "print(type(age))\n",
    "print(age)"
   ]
  },
  {
   "cell_type": "code",
   "execution_count": 4,
   "metadata": {},
   "outputs": [
    {
     "name": "stdout",
     "output_type": "stream",
     "text": [
      "<class 'int'>\n",
      "9390673276\n"
     ]
    }
   ],
   "source": [
    "phno=9390673276\n",
    "print(type(phno))\n",
    "print(phno)"
   ]
  },
  {
   "cell_type": "code",
   "execution_count": 5,
   "metadata": {},
   "outputs": [
    {
     "name": "stdout",
     "output_type": "stream",
     "text": [
      "<class 'str'>\n",
      "hello\n"
     ]
    }
   ],
   "source": [
    "s='hello'\n",
    "print(type(s))\n",
    "print(s)"
   ]
  },
  {
   "cell_type": "code",
   "execution_count": 6,
   "metadata": {},
   "outputs": [
    {
     "name": "stdout",
     "output_type": "stream",
     "text": [
      "<class 'str'>\n",
      "hello\"\n"
     ]
    }
   ],
   "source": [
    "s='hello\"'\n",
    "print(type(s))\n",
    "print(s)"
   ]
  },
  {
   "cell_type": "code",
   "execution_count": 7,
   "metadata": {},
   "outputs": [
    {
     "name": "stdout",
     "output_type": "stream",
     "text": [
      "<class 'str'>\n",
      "i'mjack sparow\n"
     ]
    }
   ],
   "source": [
    "s=\"i'mjack sparow\"\n",
    "print(type(s))\n",
    "print(s)"
   ]
  },
  {
   "cell_type": "code",
   "execution_count": 8,
   "metadata": {},
   "outputs": [
    {
     "name": "stdout",
     "output_type": "stream",
     "text": [
      "<class 'str'>\n",
      "hello im\n",
      "reporter sam,i\"want\" to catch a news\n",
      ",so i can telecast tomarrow\n"
     ]
    }
   ],
   "source": [
    "sen='''hello im\n",
    "reporter sam,i\"want\" to catch a news\n",
    ",so i can telecast tomarrow'''\n",
    "print (type(sen))\n",
    "print(sen)\n"
   ]
  },
  {
   "cell_type": "code",
   "execution_count": 1,
   "metadata": {},
   "outputs": [
    {
     "name": "stdout",
     "output_type": "stream",
     "text": [
      "e\n",
      "h\n",
      "o\n"
     ]
    }
   ],
   "source": [
    "st=\"hero\"\n",
    "v=st[1]\n",
    "print(v)\n",
    "print(st[0])\n",
    "print(st[-1])"
   ]
  },
  {
   "cell_type": "code",
   "execution_count": 5,
   "metadata": {},
   "outputs": [
    {
     "name": "stdout",
     "output_type": "stream",
     "text": [
      "i\n",
      "n\n",
      "r\n",
      "n\n"
     ]
    }
   ],
   "source": [
    "s=\"rani\"\n",
    "v=s[3]\n",
    "print(v)\n",
    "print(s[2])\n",
    "print(s[0])\n",
    "print(s[-2])"
   ]
  },
  {
   "cell_type": "code",
   "execution_count": 7,
   "metadata": {},
   "outputs": [
    {
     "name": "stdout",
     "output_type": "stream",
     "text": [
      "usha\n",
      "a\n",
      "h\n",
      "a\n"
     ]
    }
   ],
   "source": [
    "s=\"usha\"\n",
    "v=s[1]\n",
    "print(s)\n",
    "print(s[-1])\n",
    "print(s[2])\n",
    "print(s[3])"
   ]
  },
  {
   "cell_type": "code",
   "execution_count": 8,
   "metadata": {},
   "outputs": [
    {
     "name": "stdout",
     "output_type": "stream",
     "text": [
      "naidu\n",
      "u\n",
      "d\n",
      "n\n",
      "i\n"
     ]
    }
   ],
   "source": [
    "u=\"naidu\"\n",
    "v=u[1]\n",
    "print(u)\n",
    "print(u[4])\n",
    "print(u[-2])\n",
    "print(u[0])\n",
    "print(u[2])"
   ]
  },
  {
   "cell_type": "code",
   "execution_count": 9,
   "metadata": {},
   "outputs": [
    {
     "name": "stdout",
     "output_type": "stream",
     "text": [
      "<class 'list'>\n",
      "['usha', 'rani', 10.2]\n"
     ]
    }
   ],
   "source": [
    "s=[\"usha\",\"rani\",10.20]\n",
    "print(type(s))\n",
    "print(s)"
   ]
  },
  {
   "cell_type": "code",
   "execution_count": 10,
   "metadata": {},
   "outputs": [
    {
     "name": "stdout",
     "output_type": "stream",
     "text": [
      "<class 'list'>\n",
      "['usha', 'rani', 25, 35, 70]\n"
     ]
    }
   ],
   "source": [
    "u=[\"usha\",\"rani\",25,35,70]\n",
    "print(type(u))\n",
    "print(u)"
   ]
  },
  {
   "cell_type": "code",
   "execution_count": 16,
   "metadata": {},
   "outputs": [
    {
     "name": "stdout",
     "output_type": "stream",
     "text": [
      "u\n",
      "h\n",
      "s\n",
      "h\n",
      "s\n"
     ]
    }
   ],
   "source": [
    "s=\"usha\"\n",
    "v=s[1]\n",
    "print(s[0])\n",
    "print(s[-2])\n",
    "print(s[-3])\n",
    "print(s[2])\n",
    "9print(s[1])"
   ]
  },
  {
   "cell_type": "code",
   "execution_count": 18,
   "metadata": {},
   "outputs": [
    {
     "name": "stdout",
     "output_type": "stream",
     "text": [
      "<class 'list'>\n",
      "['hero', 'rani', 'enter', 100, 1000]\n"
     ]
    }
   ],
   "source": [
    "u=[\"hero\",\"rani\",\"enter\",100,1000]\n",
    "print(type(u))\n",
    "print(u)"
   ]
  },
  {
   "cell_type": "code",
   "execution_count": 20,
   "metadata": {},
   "outputs": [
    {
     "name": "stdout",
     "output_type": "stream",
     "text": [
      "n\n",
      "u\n",
      "d\n"
     ]
    }
   ],
   "source": [
    "u=\"naidu\"\n",
    "v=u[1]\n",
    "print(u[0])\n",
    "print(u[-1])\n",
    "print(u[-2])"
   ]
  },
  {
   "cell_type": "code",
   "execution_count": 21,
   "metadata": {},
   "outputs": [
    {
     "name": "stdout",
     "output_type": "stream",
     "text": [
      "<class 'tuple'>\n",
      "(100, 300, 5000)\n"
     ]
    }
   ],
   "source": [
    "t=100,300,5000\n",
    "print(type(t))\n",
    "print(t)"
   ]
  },
  {
   "cell_type": "code",
   "execution_count": 29,
   "metadata": {},
   "outputs": [
    {
     "name": "stdout",
     "output_type": "stream",
     "text": [
      "<class 'tuple'>\n",
      "(10, 20, 30)\n"
     ]
    }
   ],
   "source": [
    "t=10,20,30\n",
    "print(type(t))\n",
    "print(t)"
   ]
  },
  {
   "cell_type": "code",
   "execution_count": 31,
   "metadata": {},
   "outputs": [
    {
     "name": "stdout",
     "output_type": "stream",
     "text": [
      "<class 'int'>\n",
      "10\n"
     ]
    }
   ],
   "source": [
    "t=10 \n",
    "print(type(t))\n",
    "print(t)"
   ]
  },
  {
   "cell_type": "code",
   "execution_count": 33,
   "metadata": {},
   "outputs": [
    {
     "name": "stdout",
     "output_type": "stream",
     "text": [
      "[1000, 2000, 3000]\n",
      "[1000, 5000, 3000]\n"
     ]
    }
   ],
   "source": [
    "t=[1000,2000,3000]\n",
    "print(t)\n",
    "t[1]=5000\n",
    "print(t)"
   ]
  },
  {
   "cell_type": "code",
   "execution_count": null,
   "metadata": {},
   "outputs": [],
   "source": [
    "t=[10,20,30]\n",
    "print"
   ]
  },
  {
   "cell_type": "code",
   "execution_count": null,
   "metadata": {},
   "outputs": [],
   "source": []
  }
 ],
 "metadata": {
  "kernelspec": {
   "display_name": "Python 3",
   "language": "python",
   "name": "python3"
  },
  "language_info": {
   "codemirror_mode": {
    "name": "ipython",
    "version": 3
   },
   "file_extension": ".py",
   "mimetype": "text/x-python",
   "name": "python",
   "nbconvert_exporter": "python",
   "pygments_lexer": "ipython3",
   "version": "3.12.2"
  }
 },
 "nbformat": 4,
 "nbformat_minor": 2
}

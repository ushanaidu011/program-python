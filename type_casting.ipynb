{
 "cells": [
  {
   "cell_type": "code",
   "execution_count": 53,
   "metadata": {},
   "outputs": [
    {
     "name": "stdout",
     "output_type": "stream",
     "text": [
      "{1, 2, 3, 67, 4}\n",
      "}\n",
      "4\n",
      " \n"
     ]
    }
   ],
   "source": [
    "s={1,2,3,4,1,2,67}\n",
    "print(str(s))\n",
    "print(str(s)[-1])\n",
    "print(str(s)[-2])\n",
    "print(str(s)[3])"
   ]
  },
  {
   "cell_type": "code",
   "execution_count": 54,
   "metadata": {},
   "outputs": [
    {
     "name": "stdout",
     "output_type": "stream",
     "text": [
      "50.0\n",
      "50.0\n"
     ]
    }
   ],
   "source": [
    "#converting int data into another types:\n",
    "a=50\n",
    "b=float(a)\n",
    "print(b)\n",
    "print(float(a))\n"
   ]
  },
  {
   "cell_type": "code",
   "execution_count": 8,
   "metadata": {},
   "outputs": [
    {
     "name": "stdout",
     "output_type": "stream",
     "text": [
      "<class 'int'>\n",
      "50.0\n",
      "50.0\n",
      "(50+0j)\n",
      "True\n",
      "50\n",
      "5\n"
     ]
    },
    {
     "ename": "TypeError",
     "evalue": "'int' object is not iterable",
     "output_type": "error",
     "traceback": [
      "\u001b[1;31m---------------------------------------------------------------------------\u001b[0m",
      "\u001b[1;31mTypeError\u001b[0m                                 Traceback (most recent call last)",
      "Cell \u001b[1;32mIn[8], line 10\u001b[0m\n\u001b[0;32m      8\u001b[0m \u001b[38;5;28mprint\u001b[39m(\u001b[38;5;28mstr\u001b[39m(a))\n\u001b[0;32m      9\u001b[0m \u001b[38;5;28mprint\u001b[39m(\u001b[38;5;28mstr\u001b[39m(a)[\u001b[38;5;241m0\u001b[39m])\n\u001b[1;32m---> 10\u001b[0m \u001b[38;5;28mprint\u001b[39m(\u001b[38;5;28;43mtuple\u001b[39;49m\u001b[43m(\u001b[49m\u001b[43ma\u001b[49m\u001b[43m)\u001b[49m)\n\u001b[0;32m     11\u001b[0m \u001b[38;5;28mprint\u001b[39m(\u001b[38;5;28mset\u001b[39m(a))\n\u001b[0;32m     12\u001b[0m \u001b[38;5;28mprint\u001b[39m(\u001b[38;5;28mdict\u001b[39m(a))\n",
      "\u001b[1;31mTypeError\u001b[0m: 'int' object is not iterable"
     ]
    }
   ],
   "source": [
    "a=50\n",
    "print(type(a))\n",
    "b=float(a)\n",
    "print(b)\n",
    "print(float(a))\n",
    "print(complex(a))\n",
    "print(bool(a))\n",
    "print(str(a))\n",
    "print(str(a)[0])\n",
    "print(tuple(a))\n",
    "print(set(a))\n",
    "print(dict(a))\n",
    "print(list(a))\n",
    "#int we convert only float,complex,bool,str\n"
   ]
  },
  {
   "cell_type": "code",
   "execution_count": 9,
   "metadata": {},
   "outputs": [],
   "source": [
    "f=10"
   ]
  },
  {
   "cell_type": "code",
   "execution_count": 7,
   "metadata": {},
   "outputs": [
    {
     "name": "stdout",
     "output_type": "stream",
     "text": [
      "<class 'float'>\n",
      "50\n",
      "(50.2+0j)\n",
      "True\n",
      "50.2\n",
      ".\n"
     ]
    },
    {
     "ename": "TypeError",
     "evalue": "'float' object is not iterable",
     "output_type": "error",
     "traceback": [
      "\u001b[1;31m---------------------------------------------------------------------------\u001b[0m",
      "\u001b[1;31mTypeError\u001b[0m                                 Traceback (most recent call last)",
      "Cell \u001b[1;32mIn[7], line 9\u001b[0m\n\u001b[0;32m      7\u001b[0m \u001b[38;5;28mprint\u001b[39m(\u001b[38;5;28mstr\u001b[39m(f))\n\u001b[0;32m      8\u001b[0m \u001b[38;5;28mprint\u001b[39m(\u001b[38;5;28mstr\u001b[39m(f)[\u001b[38;5;241m2\u001b[39m])\n\u001b[1;32m----> 9\u001b[0m \u001b[38;5;28mprint\u001b[39m(\u001b[38;5;28;43mlist\u001b[39;49m\u001b[43m(\u001b[49m\u001b[43mf\u001b[49m\u001b[43m)\u001b[49m)\n\u001b[0;32m     10\u001b[0m \u001b[38;5;28mprint\u001b[39m(\u001b[38;5;28mtuple\u001b[39m(f))\n\u001b[0;32m     11\u001b[0m \u001b[38;5;28mprint\u001b[39m(\u001b[38;5;28mset\u001b[39m(f))\n",
      "\u001b[1;31mTypeError\u001b[0m: 'float' object is not iterable"
     ]
    }
   ],
   "source": [
    "#converting float into another data types:\n",
    "f=50.2\n",
    "print(type(f))\n",
    "print(int(f))\n",
    "print(complex(f))\n",
    "print(bool(f))\n",
    "print(str(f))\n",
    "print(str(f)[2])\n",
    "print(list(f))\n",
    "print(tuple(f))\n",
    "print(set(f))\n",
    "print(dict(f))\n",
    "#float we convert only int,complex,bool,str\n"
   ]
  },
  {
   "cell_type": "code",
   "execution_count": 13,
   "metadata": {},
   "outputs": [
    {
     "name": "stdout",
     "output_type": "stream",
     "text": [
      "True\n",
      "False\n",
      "(10+2j)\n",
      "(\n",
      ")\n"
     ]
    }
   ],
   "source": [
    "c=10+2j\n",
    "print(bool(c))\n",
    "print(bool(0j))\n",
    "print(str(c))\n",
    "print(str(c)[0])\n",
    "print(str(c)[-1])\n",
    "\n",
    "\n",
    "\n"
   ]
  },
  {
   "cell_type": "code",
   "execution_count": null,
   "metadata": {},
   "outputs": [],
   "source": []
  },
  {
   "cell_type": "code",
   "execution_count": null,
   "metadata": {},
   "outputs": [
    {
     "name": "stdout",
     "output_type": "stream",
     "text": [
      "<class 'complex'>\n",
      "True\n",
      "(50+2j)\n"
     ]
    },
    {
     "ename": "TypeError",
     "evalue": "int() argument must be a string, a bytes-like object or a real number, not 'complex'",
     "output_type": "error",
     "traceback": [
      "\u001b[1;31m---------------------------------------------------------------------------\u001b[0m",
      "\u001b[1;31mTypeError\u001b[0m                                 Traceback (most recent call last)",
      "Cell \u001b[1;32mIn[40], line 6\u001b[0m\n\u001b[0;32m      4\u001b[0m \u001b[38;5;28mprint\u001b[39m(\u001b[38;5;28mbool\u001b[39m(c))\n\u001b[0;32m      5\u001b[0m \u001b[38;5;28mprint\u001b[39m(\u001b[38;5;28mstr\u001b[39m(c))\n\u001b[1;32m----> 6\u001b[0m \u001b[38;5;28mprint\u001b[39m(\u001b[38;5;28;43mint\u001b[39;49m\u001b[43m(\u001b[49m\u001b[43mc\u001b[49m\u001b[43m)\u001b[49m)\n\u001b[0;32m      7\u001b[0m \u001b[38;5;28mprint\u001b[39m(\u001b[38;5;28mfloat\u001b[39m(c))\n\u001b[0;32m      8\u001b[0m \u001b[38;5;28mprint\u001b[39m(\u001b[38;5;28mtuple\u001b[39m(c))\n",
      "\u001b[1;31mTypeError\u001b[0m: int() argument must be a string, a bytes-like object or a real number, not 'complex'"
     ]
    }
   ],
   "source": [
    "#converting complex into another data types:\n",
    "c=50+2j\n",
    "print(type(c))\n",
    "print(bool(c))\n",
    "print(str(c))\n",
    "print(int(c))\n",
    "print(float(c))\n",
    "print(tuple(c))\n",
    "print(set(c))\n",
    "print(dict(c))\n",
    "print(list(c))\n",
    "#complex we converting only bool,str\n"
   ]
  },
  {
   "cell_type": "code",
   "execution_count": null,
   "metadata": {},
   "outputs": [
    {
     "name": "stdout",
     "output_type": "stream",
     "text": [
      "<class 'bool'>\n",
      "1\n",
      "1.0\n",
      "(1+0j)\n",
      "True\n"
     ]
    },
    {
     "ename": "TypeError",
     "evalue": "'bool' object is not iterable",
     "output_type": "error",
     "traceback": [
      "\u001b[1;31m---------------------------------------------------------------------------\u001b[0m",
      "\u001b[1;31mTypeError\u001b[0m                                 Traceback (most recent call last)",
      "Cell \u001b[1;32mIn[52], line 8\u001b[0m\n\u001b[0;32m      6\u001b[0m \u001b[38;5;28mprint\u001b[39m(\u001b[38;5;28mcomplex\u001b[39m(b))\n\u001b[0;32m      7\u001b[0m \u001b[38;5;28mprint\u001b[39m(\u001b[38;5;28mstr\u001b[39m(b))\n\u001b[1;32m----> 8\u001b[0m \u001b[38;5;28mprint\u001b[39m(\u001b[38;5;28;43mtuple\u001b[39;49m\u001b[43m(\u001b[49m\u001b[43mb\u001b[49m\u001b[43m)\u001b[49m)\n\u001b[0;32m      9\u001b[0m \u001b[38;5;28mprint\u001b[39m(\u001b[38;5;28mset\u001b[39m(b))\n",
      "\u001b[1;31mTypeError\u001b[0m: 'bool' object is not iterable"
     ]
    }
   ],
   "source": [
    "#converting boolean into another data types:\n",
    "b=True\n",
    "print(type(b))\n",
    "print(int(b))\n",
    "print(float(b))\n",
    "print(complex(b))\n",
    "print(str(b))\n",
    "print(tuple(b))\n",
    "print(set(b))"
   ]
  },
  {
   "cell_type": "code",
   "execution_count": 99,
   "metadata": {},
   "outputs": [
    {
     "ename": "NameError",
     "evalue": "name 'age' is not defined",
     "output_type": "error",
     "traceback": [
      "\u001b[1;31m---------------------------------------------------------------------------\u001b[0m",
      "\u001b[1;31mNameError\u001b[0m                                 Traceback (most recent call last)",
      "Cell \u001b[1;32mIn[99], line 7\u001b[0m\n\u001b[0;32m      1\u001b[0m l\u001b[38;5;241m=\u001b[39m[\u001b[38;5;124m\"\u001b[39m\u001b[38;5;124mjames franklin\u001b[39m\u001b[38;5;124m\"\u001b[39m,[\u001b[38;5;241m100\u001b[39m,\u001b[38;5;241m200\u001b[39m,\u001b[38;5;124m\"\u001b[39m\u001b[38;5;124mrohit\u001b[39m\u001b[38;5;124m\"\u001b[39m],{\u001b[38;5;124m\"\u001b[39m\u001b[38;5;124mname\u001b[39m\u001b[38;5;124m\"\u001b[39m:\u001b[38;5;124m\"\u001b[39m\u001b[38;5;124mmeason\u001b[39m\u001b[38;5;124m\"\u001b[39m,\u001b[38;5;124m\"\u001b[39m\u001b[38;5;124mage\u001b[39m\u001b[38;5;124m\"\u001b[39m:\u001b[38;5;241m23\u001b[39m},\u001b[38;5;124m\"\u001b[39m\u001b[38;5;124mvirat\u001b[39m\u001b[38;5;124m\"\u001b[39m,\u001b[38;5;124m\"\u001b[39m\u001b[38;5;124mRCB\u001b[39m\u001b[38;5;124m\"\u001b[39m]\n\u001b[0;32m      2\u001b[0m \u001b[38;5;66;03m# print(l[0][0:5])                james\u001b[39;00m\n\u001b[0;32m      3\u001b[0m \u001b[38;5;66;03m# print(l[0][6:11])                   frank\u001b[39;00m\n\u001b[0;32m      4\u001b[0m \u001b[38;5;66;03m# print(l[1][0:2])                 [100, 200]\u001b[39;00m\n\u001b[0;32m      5\u001b[0m \u001b[38;5;66;03m# meas \u001b[39;00m\n\u001b[0;32m      6\u001b[0m \u001b[38;5;66;03m# 23\u001b[39;00m\n\u001b[1;32m----> 7\u001b[0m \u001b[38;5;28mprint\u001b[39m(l[\u001b[38;5;241m2\u001b[39m][\u001b[43mage\u001b[49m][\u001b[38;5;241m0\u001b[39m])\n\u001b[0;32m      8\u001b[0m \u001b[38;5;66;03m# print(l[3][2::])                    rat\u001b[39;00m\n\u001b[0;32m      9\u001b[0m \u001b[38;5;66;03m# print(l[4])                     RCB\u001b[39;00m\n\u001b[0;32m     10\u001b[0m \u001b[38;5;66;03m# print(l[4][::-1])                   BCR\u001b[39;00m\n\u001b[1;32m   (...)\u001b[0m\n\u001b[0;32m     21\u001b[0m \u001b[38;5;66;03m# print(l[3::])                     ['virat', 'RCB']\u001b[39;00m\n\u001b[0;32m     22\u001b[0m \u001b[38;5;66;03m# print(l[-1:-3:-1])              ['RCB', 'virat']\u001b[39;00m\n",
      "\u001b[1;31mNameError\u001b[0m: name 'age' is not defined"
     ]
    }
   ],
   "source": [
    "l=[\"james franklin\",[100,200,\"rohit\"],{\"name\":\"meason\",\"age\":23},\"virat\",\"RCB\"]\n",
    "# print(l[0][0:5])                james\n",
    "# print(l[0][6:11])                   frank\n",
    "# print(l[1][0:2])                 [100, 200]\n",
    "# meas \n",
    "# 23\n",
    "print(l[2][age][0])\n",
    "# print(l[3][2::])                    rat\n",
    "# print(l[4])                     RCB\n",
    "# print(l[4][::-1])                   BCR\n",
    "# print(l[3][-1:-4:-1])           tar\n",
    "\n",
    "\n",
    "# print(l[3][-3::-1])                 riv\n",
    "\n",
    "# print(l[1][2][2::1])             hit\n",
    "# print(l[1][2][-3::-1])           hor\n",
    "# print(l[1][::-1][1::])          [200, 100]\n",
    "# print(l[0][-1:-9:-1])           nilknarf\n",
    "# print(l[1][-1:-3:-1])           ['rohit', 200]\n",
    "# print(l[3::])                     ['virat', 'RCB']\n",
    "# print(l[-1:-3:-1])              ['RCB', 'virat']"
   ]
  },
  {
   "cell_type": "code",
   "execution_count": 4,
   "metadata": {},
   "outputs": [
    {
     "name": "stdout",
     "output_type": "stream",
     "text": [
      "50.0\n",
      "50.0\n"
     ]
    }
   ],
   "source": [
    "a=50\n",
    "b=float(a)\n",
    "print(b)\n",
    "print(float(a))"
   ]
  },
  {
   "cell_type": "code",
   "execution_count": 17,
   "metadata": {},
   "outputs": [
    {
     "name": "stdout",
     "output_type": "stream",
     "text": [
      "123.2\n"
     ]
    }
   ],
   "source": [
    "#converting str into other data types:\n",
    "st1=\"123.20\"\n",
    "print(float(st1))\n"
   ]
  },
  {
   "cell_type": "code",
   "execution_count": 18,
   "metadata": {},
   "outputs": [
    {
     "name": "stdout",
     "output_type": "stream",
     "text": [
      "321.0\n"
     ]
    }
   ],
   "source": [
    "st2=\"321\"\n",
    "print(float(st2))"
   ]
  },
  {
   "cell_type": "code",
   "execution_count": 19,
   "metadata": {},
   "outputs": [
    {
     "name": "stdout",
     "output_type": "stream",
     "text": [
      "123\n"
     ]
    }
   ],
   "source": [
    "st=\"123\"\n",
    "print(int(st))"
   ]
  },
  {
   "cell_type": "code",
   "execution_count": 20,
   "metadata": {},
   "outputs": [
    {
     "name": "stdout",
     "output_type": "stream",
     "text": [
      "['r', 'a', 'j', 'a']\n",
      "{'r', 'j', 'a'}\n",
      "('r', 'a', 'j', 'a')\n"
     ]
    },
    {
     "ename": "ValueError",
     "evalue": "dictionary update sequence element #0 has length 1; 2 is required",
     "output_type": "error",
     "traceback": [
      "\u001b[1;31m---------------------------------------------------------------------------\u001b[0m",
      "\u001b[1;31mValueError\u001b[0m                                Traceback (most recent call last)",
      "Cell \u001b[1;32mIn[20], line 5\u001b[0m\n\u001b[0;32m      3\u001b[0m \u001b[38;5;28mprint\u001b[39m(\u001b[38;5;28mset\u001b[39m(st))\n\u001b[0;32m      4\u001b[0m \u001b[38;5;28mprint\u001b[39m(\u001b[38;5;28mtuple\u001b[39m(st))\n\u001b[1;32m----> 5\u001b[0m \u001b[38;5;28mprint\u001b[39m(\u001b[38;5;28;43mdict\u001b[39;49m\u001b[43m(\u001b[49m\u001b[43mst\u001b[49m\u001b[43m)\u001b[49m)\n",
      "\u001b[1;31mValueError\u001b[0m: dictionary update sequence element #0 has length 1; 2 is required"
     ]
    }
   ],
   "source": [
    "st=\"raja\"\n",
    "print(list(st))\n",
    "print(set(st))\n",
    "print(tuple(st))\n",
    "print(dict(st))"
   ]
  },
  {
   "cell_type": "code",
   "execution_count": 22,
   "metadata": {},
   "outputs": [
    {
     "name": "stdout",
     "output_type": "stream",
     "text": [
      "[1, 2, 3]\n",
      " \n",
      ",\n",
      " \n",
      "2\n"
     ]
    }
   ],
   "source": [
    "l=[1,2,3]\n",
    "print(str(l))\n",
    "print(str(l)[3])\n",
    "print(str(l)[2])\n",
    "print(str(l)[-3])\n",
    "print(str(l)[-5])"
   ]
  },
  {
   "cell_type": "code",
   "execution_count": 23,
   "metadata": {},
   "outputs": [
    {
     "name": "stdout",
     "output_type": "stream",
     "text": [
      "[1, 22, 3]\n",
      "[1, 22, 3]\n",
      " \n",
      ",\n",
      "[\n",
      "2\n",
      "3\n",
      "2\n",
      " \n"
     ]
    }
   ],
   "source": [
    "l=[1,22,3]\n",
    "print(l)\n",
    "print(str(l))\n",
    "print(str(l)[3])\n",
    "print(str(l)[2])\n",
    "print(str(l)[0])\n",
    "print(str(l)[4])\n",
    "print(str(l)[-2])\n",
    "print(str(l)[-5])\n",
    "print(str(l)[-3])"
   ]
  },
  {
   "cell_type": "code",
   "execution_count": 24,
   "metadata": {},
   "outputs": [
    {
     "name": "stdout",
     "output_type": "stream",
     "text": [
      "(1, 2, 2, 44, 5)\n",
      "44\n"
     ]
    }
   ],
   "source": [
    "l1=[1,2,2,44,5]\n",
    "print(tuple(l1))\n",
    "print(tuple(l1)[3])"
   ]
  },
  {
   "cell_type": "code",
   "execution_count": 26,
   "metadata": {},
   "outputs": [
    {
     "name": "stdout",
     "output_type": "stream",
     "text": [
      "{1, 2, 33, 4, 6, 55}\n"
     ]
    }
   ],
   "source": [
    "l1=[1,2,2,1,33,4,55,6]\n",
    "print(set(l1))\n"
   ]
  },
  {
   "cell_type": "code",
   "execution_count": 40,
   "metadata": {},
   "outputs": [
    {
     "ename": "SyntaxError",
     "evalue": "invalid syntax (842532162.py, line 1)",
     "output_type": "error",
     "traceback": [
      "\u001b[1;36m  Cell \u001b[1;32mIn[40], line 1\u001b[1;36m\u001b[0m\n\u001b[1;33m    l2=[(\"name\",\"raju\"),(\"age\",21),(\"cars\",(\"audi\",\"bmw\",\"porsche\")),[1:100]]\u001b[0m\n\u001b[1;37m                                                                       ^\u001b[0m\n\u001b[1;31mSyntaxError\u001b[0m\u001b[1;31m:\u001b[0m invalid syntax\n"
     ]
    }
   ],
   "source": [
    "l2=[(\"name\",\"raju\"),(\"age\",21),(\"cars\",(\"audi\",\"bmw\",\"porsche\")),[1:100]]\n",
    "\n"
   ]
  },
  {
   "cell_type": "code",
   "execution_count": 42,
   "metadata": {},
   "outputs": [
    {
     "name": "stdout",
     "output_type": "stream",
     "text": [
      "[100, 200, 'raja', 'rani']\n",
      "'\n",
      "]\n",
      "a\n"
     ]
    }
   ],
   "source": [
    "t=[100,200,\"raja\",\"rani\"]\n",
    "print(str(t))\n",
    "print(str(t)[-2])\n",
    "print(str(t)[-1])\n",
    "print(str(t)[-5])"
   ]
  },
  {
   "cell_type": "code",
   "execution_count": 45,
   "metadata": {},
   "outputs": [
    {
     "name": "stdout",
     "output_type": "stream",
     "text": [
      "{'name': 'jack', 'age': 33}\n"
     ]
    }
   ],
   "source": [
    "l3=[(\"name\",\"jack\"),(\"age\",33)]\n",
    "print(dict(l3))"
   ]
  },
  {
   "cell_type": "code",
   "execution_count": 46,
   "metadata": {},
   "outputs": [
    {
     "name": "stdout",
     "output_type": "stream",
     "text": [
      "[1, 2, 'python', 'java']\n"
     ]
    }
   ],
   "source": [
    "t=(1,2,\"python\",\"java\")\n",
    "print(list(t))"
   ]
  },
  {
   "cell_type": "code",
   "execution_count": 47,
   "metadata": {},
   "outputs": [
    {
     "name": "stdout",
     "output_type": "stream",
     "text": [
      "{1, 2, 3, 4, 5, 55, 56}\n"
     ]
    }
   ],
   "source": [
    "t=(1,1,1,1,2,2,2,2,3,3,3,4,4,4,5,5,5,56,55)\n",
    "print(set(t))"
   ]
  },
  {
   "cell_type": "code",
   "execution_count": 48,
   "metadata": {},
   "outputs": [
    {
     "name": "stdout",
     "output_type": "stream",
     "text": [
      "{'name': 'virat', 'lastname': 'kohli'}\n"
     ]
    }
   ],
   "source": [
    "t1=((\"name\",\"virat\"),(\"lastname\",\"kohli\"))\n",
    "print(dict(t1))"
   ]
  },
  {
   "cell_type": "code",
   "execution_count": 49,
   "metadata": {},
   "outputs": [
    {
     "name": "stdout",
     "output_type": "stream",
     "text": [
      "{1: 2, 'car': 'audi', 'raja': 'rani'}\n"
     ]
    }
   ],
   "source": [
    "t2=([1,2,],[\"car\",\"audi\"],{\"raja\",\"rani\"})\n",
    "print(dict(t2))"
   ]
  },
  {
   "cell_type": "code",
   "execution_count": 50,
   "metadata": {},
   "outputs": [
    {
     "name": "stdout",
     "output_type": "stream",
     "text": [
      "{1, 2, 3}\n",
      "{1, 2, 3}\n",
      "[1, 2, 3]\n",
      "(1, 2, 3)\n"
     ]
    }
   ],
   "source": [
    "set1={1,2,3,3}\n",
    "print(set1)\n",
    "print(str(set1))\n",
    "print(list(set1))\n",
    "print(tuple(set1))"
   ]
  },
  {
   "cell_type": "code",
   "execution_count": 51,
   "metadata": {},
   "outputs": [
    {
     "name": "stdout",
     "output_type": "stream",
     "text": [
      "{1: 2, 3: 4}\n"
     ]
    }
   ],
   "source": [
    "s={(1,2),(3,4)}\n",
    "print(dict(s))"
   ]
  },
  {
   "cell_type": "code",
   "execution_count": 54,
   "metadata": {},
   "outputs": [
    {
     "name": "stdout",
     "output_type": "stream",
     "text": [
      "{'name': 'anil', 'age': 23}\n",
      "('name', 'age')\n",
      "{'age', 'name'}\n",
      "['name', 'age']\n"
     ]
    }
   ],
   "source": [
    "dict={'name':'anil','age':23}\n",
    "print(str(dict))\n",
    "print(tuple(dict))\n",
    "print(set(dict))\n",
    "print(list(dict))"
   ]
  },
  {
   "cell_type": "code",
   "execution_count": 58,
   "metadata": {},
   "outputs": [
    {
     "name": "stdout",
     "output_type": "stream",
     "text": [
      "{'name': 'usha', 'age': 20}\n",
      "['name', 'age']\n",
      "{'age', 'name'}\n",
      "('name', 'age')\n"
     ]
    }
   ],
   "source": [
    "dict1={\"name\":\"usha\",\"age\":20}\n",
    "print(str(dict1))\n",
    "print(list(dict1))\n",
    "print(set(dict1))\n",
    "print(tuple(dict1))"
   ]
  },
  {
   "cell_type": "code",
   "execution_count": null,
   "metadata": {},
   "outputs": [],
   "source": []
  },
  {
   "cell_type": "code",
   "execution_count": null,
   "metadata": {},
   "outputs": [],
   "source": []
  },
  {
   "cell_type": "code",
   "execution_count": null,
   "metadata": {},
   "outputs": [],
   "source": []
  },
  {
   "cell_type": "code",
   "execution_count": null,
   "metadata": {},
   "outputs": [],
   "source": []
  },
  {
   "cell_type": "code",
   "execution_count": null,
   "metadata": {},
   "outputs": [],
   "source": []
  }
 ],
 "metadata": {
  "kernelspec": {
   "display_name": "Python 3",
   "language": "python",
   "name": "python3"
  },
  "language_info": {
   "codemirror_mode": {
    "name": "ipython",
    "version": 3
   },
   "file_extension": ".py",
   "mimetype": "text/x-python",
   "name": "python",
   "nbconvert_exporter": "python",
   "pygments_lexer": "ipython3",
   "version": "3.12.2"
  }
 },
 "nbformat": 4,
 "nbformat_minor": 2
}
